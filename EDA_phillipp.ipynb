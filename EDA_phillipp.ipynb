{
 "cells": [
  {
   "cell_type": "markdown",
   "metadata": {},
   "source": [
    "# EDA Muesli Company\n",
    "\n",
    "### Business case\n",
    "A Muesli distribution company has approached you to help them understand their delivery process. They want to develop KPIs to help them keep track of the health of their business in order to improve the service they offer their customers.\n",
    "\n",
    "### Workflow\n",
    "maybe add more whitespace on the edges and a internal/external heading on the side\n",
    "![workflow](images/Muesli_Flow.drawio.png)\n",
    "![workflow](./images/workflow.png)"
   ]
  },
  {
   "cell_type": "code",
   "execution_count": 262,
   "metadata": {},
   "outputs": [],
   "source": [
    "# import the necessary libraries you need for your analysis\n",
    "import pandas as pd\n",
    "import matplotlib.pyplot as plt\n",
    "import seaborn as sns"
   ]
  },
  {
   "cell_type": "code",
   "execution_count": 263,
   "metadata": {},
   "outputs": [],
   "source": [
    "# Floats (decimal numbers) should be displayed rounded with 2 decimal places\n",
    "pd.options.display.float_format = \"{:,.2f}\".format\n",
    "# Set style for plots\n",
    "plt.style.use('fivethirtyeight') "
   ]
  },
  {
   "cell_type": "markdown",
   "metadata": {},
   "source": [
    "## Orders-Dataset"
   ]
  },
  {
   "cell_type": "code",
   "execution_count": 264,
   "metadata": {},
   "outputs": [
    {
     "data": {
      "text/html": [
       "<div>\n",
       "<style scoped>\n",
       "    .dataframe tbody tr th:only-of-type {\n",
       "        vertical-align: middle;\n",
       "    }\n",
       "\n",
       "    .dataframe tbody tr th {\n",
       "        vertical-align: top;\n",
       "    }\n",
       "\n",
       "    .dataframe thead th {\n",
       "        text-align: right;\n",
       "    }\n",
       "</style>\n",
       "<table border=\"1\" class=\"dataframe\">\n",
       "  <thead>\n",
       "    <tr style=\"text-align: right;\">\n",
       "      <th></th>\n",
       "      <th>index</th>\n",
       "      <th>order_id</th>\n",
       "      <th>order_date</th>\n",
       "      <th>ship_mode</th>\n",
       "      <th>customer_id</th>\n",
       "      <th>customer_name</th>\n",
       "      <th>origin_channel</th>\n",
       "      <th>country/region</th>\n",
       "      <th>city</th>\n",
       "      <th>state</th>\n",
       "      <th>postal_code</th>\n",
       "      <th>region</th>\n",
       "      <th>category</th>\n",
       "      <th>sub-category</th>\n",
       "      <th>product_id</th>\n",
       "      <th>sales</th>\n",
       "      <th>quantity</th>\n",
       "      <th>discount</th>\n",
       "      <th>profit</th>\n",
       "    </tr>\n",
       "  </thead>\n",
       "  <tbody>\n",
       "    <tr>\n",
       "      <th>0</th>\n",
       "      <td>27</td>\n",
       "      <td>CA-2019-121755</td>\n",
       "      <td>16/1/2019</td>\n",
       "      <td>Second Class</td>\n",
       "      <td>EH-13945</td>\n",
       "      <td>Eric Hoffmann</td>\n",
       "      <td>Email</td>\n",
       "      <td>United States</td>\n",
       "      <td>Los Angeles</td>\n",
       "      <td>California</td>\n",
       "      <td>90,049.00</td>\n",
       "      <td>West</td>\n",
       "      <td>Special Projects Muesil</td>\n",
       "      <td>Gluten Free</td>\n",
       "      <td>TEC-AC-10003027</td>\n",
       "      <td>90.57</td>\n",
       "      <td>3</td>\n",
       "      <td>0.00</td>\n",
       "      <td>11.77</td>\n",
       "    </tr>\n",
       "    <tr>\n",
       "      <th>1</th>\n",
       "      <td>45</td>\n",
       "      <td>CA-2019-118255</td>\n",
       "      <td>11/3/2019</td>\n",
       "      <td>First Class</td>\n",
       "      <td>ON-18715</td>\n",
       "      <td>Odella Nelson</td>\n",
       "      <td>Sales</td>\n",
       "      <td>United States</td>\n",
       "      <td>Eagan</td>\n",
       "      <td>Minnesota</td>\n",
       "      <td>55,122.00</td>\n",
       "      <td>Central</td>\n",
       "      <td>Special Projects Muesil</td>\n",
       "      <td>Gluten Free</td>\n",
       "      <td>TEC-AC-10000171</td>\n",
       "      <td>45.98</td>\n",
       "      <td>2</td>\n",
       "      <td>0.00</td>\n",
       "      <td>19.77</td>\n",
       "    </tr>\n",
       "    <tr>\n",
       "      <th>2</th>\n",
       "      <td>48</td>\n",
       "      <td>CA-2019-169194</td>\n",
       "      <td>20/6/2019</td>\n",
       "      <td>Standard Class</td>\n",
       "      <td>LH-16900</td>\n",
       "      <td>Lena Hernandez</td>\n",
       "      <td>Email</td>\n",
       "      <td>United States</td>\n",
       "      <td>Dover</td>\n",
       "      <td>Delaware</td>\n",
       "      <td>19,901.00</td>\n",
       "      <td>East</td>\n",
       "      <td>Special Projects Muesil</td>\n",
       "      <td>Gluten Free</td>\n",
       "      <td>TEC-AC-10002167</td>\n",
       "      <td>45.00</td>\n",
       "      <td>3</td>\n",
       "      <td>0.00</td>\n",
       "      <td>4.95</td>\n",
       "    </tr>\n",
       "    <tr>\n",
       "      <th>3</th>\n",
       "      <td>60</td>\n",
       "      <td>CA-2019-111682</td>\n",
       "      <td>17/6/2019</td>\n",
       "      <td>First Class</td>\n",
       "      <td>TB-21055</td>\n",
       "      <td>Ted Butterfield</td>\n",
       "      <td>Email</td>\n",
       "      <td>United States</td>\n",
       "      <td>Troy</td>\n",
       "      <td>New York</td>\n",
       "      <td>12,180.00</td>\n",
       "      <td>East</td>\n",
       "      <td>Special Projects Muesil</td>\n",
       "      <td>Gluten Free</td>\n",
       "      <td>TEC-AC-10002167</td>\n",
       "      <td>30.00</td>\n",
       "      <td>2</td>\n",
       "      <td>0.00</td>\n",
       "      <td>3.30</td>\n",
       "    </tr>\n",
       "    <tr>\n",
       "      <th>4</th>\n",
       "      <td>63</td>\n",
       "      <td>CA-2018-135545</td>\n",
       "      <td>24/11/2018</td>\n",
       "      <td>Standard Class</td>\n",
       "      <td>KM-16720</td>\n",
       "      <td>Kunst Miller</td>\n",
       "      <td>Email</td>\n",
       "      <td>United States</td>\n",
       "      <td>Los Angeles</td>\n",
       "      <td>California</td>\n",
       "      <td>90,004.00</td>\n",
       "      <td>West</td>\n",
       "      <td>Special Projects Muesil</td>\n",
       "      <td>Gluten Free</td>\n",
       "      <td>TEC-AC-10004633</td>\n",
       "      <td>13.98</td>\n",
       "      <td>2</td>\n",
       "      <td>0.00</td>\n",
       "      <td>6.15</td>\n",
       "    </tr>\n",
       "  </tbody>\n",
       "</table>\n",
       "</div>"
      ],
      "text/plain": [
       "   index        order_id  order_date       ship_mode customer_id  \\\n",
       "0     27  CA-2019-121755   16/1/2019    Second Class    EH-13945   \n",
       "1     45  CA-2019-118255   11/3/2019     First Class    ON-18715   \n",
       "2     48  CA-2019-169194   20/6/2019  Standard Class    LH-16900   \n",
       "3     60  CA-2019-111682   17/6/2019     First Class    TB-21055   \n",
       "4     63  CA-2018-135545  24/11/2018  Standard Class    KM-16720   \n",
       "\n",
       "     customer_name origin_channel country/region         city       state  \\\n",
       "0    Eric Hoffmann          Email  United States  Los Angeles  California   \n",
       "1    Odella Nelson          Sales  United States        Eagan   Minnesota   \n",
       "2   Lena Hernandez          Email  United States        Dover    Delaware   \n",
       "3  Ted Butterfield          Email  United States         Troy    New York   \n",
       "4     Kunst Miller          Email  United States  Los Angeles  California   \n",
       "\n",
       "   postal_code   region                 category sub-category  \\\n",
       "0    90,049.00     West  Special Projects Muesil  Gluten Free   \n",
       "1    55,122.00  Central  Special Projects Muesil  Gluten Free   \n",
       "2    19,901.00     East  Special Projects Muesil  Gluten Free   \n",
       "3    12,180.00     East  Special Projects Muesil  Gluten Free   \n",
       "4    90,004.00     West  Special Projects Muesil  Gluten Free   \n",
       "\n",
       "        product_id  sales  quantity  discount  profit  \n",
       "0  TEC-AC-10003027  90.57         3      0.00   11.77  \n",
       "1  TEC-AC-10000171  45.98         2      0.00   19.77  \n",
       "2  TEC-AC-10002167  45.00         3      0.00    4.95  \n",
       "3  TEC-AC-10002167  30.00         2      0.00    3.30  \n",
       "4  TEC-AC-10004633  13.98         2      0.00    6.15  "
      ]
     },
     "execution_count": 264,
     "metadata": {},
     "output_type": "execute_result"
    }
   ],
   "source": [
    "# read in csv file and display first 5 rows of #!CAMPAIGN DATA\n",
    "df_orders = pd.read_csv(\"data/Group_1_MuesliProjectrawdata-Orders.csv\", header=1)\n",
    "df_orders.rename(columns=lambda x : x.lower(), inplace=True)\n",
    "df_orders.rename(columns=lambda x : x.replace(' ', '_'), inplace=True)\n",
    "df_orders.head()"
   ]
  },
  {
   "cell_type": "code",
   "execution_count": 265,
   "metadata": {},
   "outputs": [
    {
     "data": {
      "text/plain": [
       "Index(['index', 'order_id', 'order_date', 'ship_mode', 'customer_id',\n",
       "       'customer_name', 'origin_channel', 'country/region', 'city', 'state',\n",
       "       'postal_code', 'region', 'category', 'sub-category', 'product_id',\n",
       "       'sales', 'quantity', 'discount', 'profit'],\n",
       "      dtype='object')"
      ]
     },
     "execution_count": 265,
     "metadata": {},
     "output_type": "execute_result"
    }
   ],
   "source": [
    "# check which columns are included in our dataframe\n",
    "df_orders.columns"
   ]
  },
  {
   "cell_type": "code",
   "execution_count": 266,
   "metadata": {},
   "outputs": [
    {
     "data": {
      "text/plain": [
       "(9994, 19)"
      ]
     },
     "execution_count": 266,
     "metadata": {},
     "output_type": "execute_result"
    }
   ],
   "source": [
    "# Let's have a look at the shape of our dataset, meaning how long and wide it is.\n",
    "df_orders.shape"
   ]
  },
  {
   "cell_type": "code",
   "execution_count": 267,
   "metadata": {},
   "outputs": [
    {
     "name": "stdout",
     "output_type": "stream",
     "text": [
      "<class 'pandas.core.frame.DataFrame'>\n",
      "RangeIndex: 9994 entries, 0 to 9993\n",
      "Data columns (total 19 columns):\n",
      " #   Column          Non-Null Count  Dtype  \n",
      "---  ------          --------------  -----  \n",
      " 0   index           9994 non-null   int64  \n",
      " 1   order_id        9994 non-null   object \n",
      " 2   order_date      9994 non-null   object \n",
      " 3   ship_mode       9994 non-null   object \n",
      " 4   customer_id     9994 non-null   object \n",
      " 5   customer_name   9994 non-null   object \n",
      " 6   origin_channel  9994 non-null   object \n",
      " 7   country/region  9994 non-null   object \n",
      " 8   city            9994 non-null   object \n",
      " 9   state           9994 non-null   object \n",
      " 10  postal_code     9983 non-null   float64\n",
      " 11  region          9994 non-null   object \n",
      " 12  category        9994 non-null   object \n",
      " 13  sub-category    9994 non-null   object \n",
      " 14  product_id      9994 non-null   object \n",
      " 15  sales           9994 non-null   float64\n",
      " 16  quantity        9994 non-null   int64  \n",
      " 17  discount        9994 non-null   float64\n",
      " 18  profit          9994 non-null   float64\n",
      "dtypes: float64(4), int64(2), object(13)\n",
      "memory usage: 1.4+ MB\n"
     ]
    }
   ],
   "source": [
    "# We now want to check out our data-types as well as get a feeling for possible missing values\n",
    "df_orders.info()"
   ]
  },
  {
   "cell_type": "code",
   "execution_count": 268,
   "metadata": {},
   "outputs": [
    {
     "data": {
      "text/html": [
       "<div>\n",
       "<style scoped>\n",
       "    .dataframe tbody tr th:only-of-type {\n",
       "        vertical-align: middle;\n",
       "    }\n",
       "\n",
       "    .dataframe tbody tr th {\n",
       "        vertical-align: top;\n",
       "    }\n",
       "\n",
       "    .dataframe thead th {\n",
       "        text-align: right;\n",
       "    }\n",
       "</style>\n",
       "<table border=\"1\" class=\"dataframe\">\n",
       "  <thead>\n",
       "    <tr style=\"text-align: right;\">\n",
       "      <th></th>\n",
       "      <th>order_id</th>\n",
       "      <th>order_date</th>\n",
       "      <th>ship_mode</th>\n",
       "      <th>customer_id</th>\n",
       "    </tr>\n",
       "  </thead>\n",
       "  <tbody>\n",
       "    <tr>\n",
       "      <th>0</th>\n",
       "      <td>CA-2019-121755</td>\n",
       "      <td>16/1/2019</td>\n",
       "      <td>Second Class</td>\n",
       "      <td>EH-13945</td>\n",
       "    </tr>\n",
       "    <tr>\n",
       "      <th>1</th>\n",
       "      <td>CA-2019-118255</td>\n",
       "      <td>11/3/2019</td>\n",
       "      <td>First Class</td>\n",
       "      <td>ON-18715</td>\n",
       "    </tr>\n",
       "    <tr>\n",
       "      <th>2</th>\n",
       "      <td>CA-2019-169194</td>\n",
       "      <td>20/6/2019</td>\n",
       "      <td>Standard Class</td>\n",
       "      <td>LH-16900</td>\n",
       "    </tr>\n",
       "    <tr>\n",
       "      <th>3</th>\n",
       "      <td>CA-2019-111682</td>\n",
       "      <td>17/6/2019</td>\n",
       "      <td>First Class</td>\n",
       "      <td>TB-21055</td>\n",
       "    </tr>\n",
       "    <tr>\n",
       "      <th>4</th>\n",
       "      <td>CA-2018-135545</td>\n",
       "      <td>24/11/2018</td>\n",
       "      <td>Standard Class</td>\n",
       "      <td>KM-16720</td>\n",
       "    </tr>\n",
       "  </tbody>\n",
       "</table>\n",
       "</div>"
      ],
      "text/plain": [
       "         order_id  order_date       ship_mode customer_id\n",
       "0  CA-2019-121755   16/1/2019    Second Class    EH-13945\n",
       "1  CA-2019-118255   11/3/2019     First Class    ON-18715\n",
       "2  CA-2019-169194   20/6/2019  Standard Class    LH-16900\n",
       "3  CA-2019-111682   17/6/2019     First Class    TB-21055\n",
       "4  CA-2018-135545  24/11/2018  Standard Class    KM-16720"
      ]
     },
     "execution_count": 268,
     "metadata": {},
     "output_type": "execute_result"
    }
   ],
   "source": [
    "# drop columns we don't need\n",
    "df_orders.drop([\"index\",\"customer_name\", \"origin_channel\", \"country/region\", \"city\", \"state\", \"postal_code\", \"region\", \"category\", \"sub-category\", \"product_id\", \"sales\", \"quantity\", \"discount\", \"profit\"], axis=1, inplace=True)\n",
    "df_orders.head()"
   ]
  },
  {
   "cell_type": "code",
   "execution_count": 269,
   "metadata": {},
   "outputs": [],
   "source": [
    "# check for duplicate rows in video_id column\n",
    "df_orders[\"order_id\"].duplicated().value_counts()\n",
    "# There are many duplicates because orders contain multiple items\n",
    "# Since we are only looking at logistic aspects, we are going to drop the duplicates\n",
    "df_orders.drop_duplicates(inplace=True)\n"
   ]
  },
  {
   "cell_type": "markdown",
   "metadata": {},
   "source": [
    "## Campaign-Dataset"
   ]
  },
  {
   "cell_type": "code",
   "execution_count": 270,
   "metadata": {},
   "outputs": [
    {
     "data": {
      "text/html": [
       "<div>\n",
       "<style scoped>\n",
       "    .dataframe tbody tr th:only-of-type {\n",
       "        vertical-align: middle;\n",
       "    }\n",
       "\n",
       "    .dataframe tbody tr th {\n",
       "        vertical-align: top;\n",
       "    }\n",
       "\n",
       "    .dataframe thead th {\n",
       "        text-align: right;\n",
       "    }\n",
       "</style>\n",
       "<table border=\"1\" class=\"dataframe\">\n",
       "  <thead>\n",
       "    <tr style=\"text-align: right;\">\n",
       "      <th></th>\n",
       "      <th>order_id</th>\n",
       "      <th>arrival_scan_date</th>\n",
       "    </tr>\n",
       "  </thead>\n",
       "  <tbody>\n",
       "    <tr>\n",
       "      <th>0</th>\n",
       "      <td>CA-2019-109666</td>\n",
       "      <td>03/05/2019</td>\n",
       "    </tr>\n",
       "    <tr>\n",
       "      <th>1</th>\n",
       "      <td>CA-2019-138933</td>\n",
       "      <td>03/05/2019</td>\n",
       "    </tr>\n",
       "    <tr>\n",
       "      <th>2</th>\n",
       "      <td>CA-2019-130001</td>\n",
       "      <td>03/05/2019</td>\n",
       "    </tr>\n",
       "    <tr>\n",
       "      <th>3</th>\n",
       "      <td>CA-2019-113061</td>\n",
       "      <td>06/05/2019</td>\n",
       "    </tr>\n",
       "    <tr>\n",
       "      <th>4</th>\n",
       "      <td>CA-2019-162138</td>\n",
       "      <td>06/05/2019</td>\n",
       "    </tr>\n",
       "  </tbody>\n",
       "</table>\n",
       "</div>"
      ],
      "text/plain": [
       "         order_id arrival_scan_date\n",
       "0  CA-2019-109666        03/05/2019\n",
       "1  CA-2019-138933        03/05/2019\n",
       "2  CA-2019-130001        03/05/2019\n",
       "3  CA-2019-113061        06/05/2019\n",
       "4  CA-2019-162138        06/05/2019"
      ]
     },
     "execution_count": 270,
     "metadata": {},
     "output_type": "execute_result"
    }
   ],
   "source": [
    "# read in csv file and display first 5 rows of #!CAMPAIGN DATA\n",
    "df_camp = pd.read_csv(\"data/Group_1_Muesli_Project_raw_data-Campaign_Data.csv\")\n",
    "df_camp.rename(columns=lambda x : x.lower(), inplace=True)\n",
    "df_camp.rename(columns=lambda x : x.replace(' ', '_'), inplace=True)\n",
    "df_camp.drop([\"customer_name\"], axis = 1, inplace=True)\n",
    "df_camp.head()"
   ]
  },
  {
   "cell_type": "code",
   "execution_count": 271,
   "metadata": {},
   "outputs": [
    {
     "data": {
      "text/plain": [
       "Index(['order_id', 'arrival_scan_date'], dtype='object')"
      ]
     },
     "execution_count": 271,
     "metadata": {},
     "output_type": "execute_result"
    }
   ],
   "source": [
    "# check which columns are included in our dataframe\n",
    "df_camp.columns"
   ]
  },
  {
   "cell_type": "code",
   "execution_count": 272,
   "id": "af5da427",
   "metadata": {},
   "outputs": [
    {
     "data": {
      "text/plain": [
       "(333, 2)"
      ]
     },
     "execution_count": 272,
     "metadata": {},
     "output_type": "execute_result"
    }
   ],
   "source": [
    "# Let's have a look at the shape of our dataset, meaning how long and wide it is.\n",
    "df_camp.shape"
   ]
  },
  {
   "cell_type": "code",
   "execution_count": 273,
   "id": "05d19aff",
   "metadata": {},
   "outputs": [
    {
     "name": "stdout",
     "output_type": "stream",
     "text": [
      "<class 'pandas.core.frame.DataFrame'>\n",
      "RangeIndex: 333 entries, 0 to 332\n",
      "Data columns (total 2 columns):\n",
      " #   Column             Non-Null Count  Dtype \n",
      "---  ------             --------------  ----- \n",
      " 0   order_id           333 non-null    object\n",
      " 1   arrival_scan_date  333 non-null    object\n",
      "dtypes: object(2)\n",
      "memory usage: 5.3+ KB\n"
     ]
    }
   ],
   "source": [
    "# We now want to check out our data-types as well as get a feeling for possible missing values\n",
    "df_camp.info()"
   ]
  },
  {
   "cell_type": "code",
   "execution_count": 274,
   "metadata": {},
   "outputs": [
    {
     "data": {
      "text/plain": [
       "False    333\n",
       "Name: order_id, dtype: int64"
      ]
     },
     "execution_count": 274,
     "metadata": {},
     "output_type": "execute_result"
    }
   ],
   "source": [
    "# check for duplicate rows in video_id column\n",
    "df_camp[\"order_id\"].duplicated().value_counts()\n",
    "# No duplicates"
   ]
  },
  {
   "cell_type": "markdown",
   "metadata": {},
   "source": [
    "## Process-Dataset"
   ]
  },
  {
   "cell_type": "code",
   "execution_count": 275,
   "metadata": {},
   "outputs": [
    {
     "data": {
      "text/html": [
       "<div>\n",
       "<style scoped>\n",
       "    .dataframe tbody tr th:only-of-type {\n",
       "        vertical-align: middle;\n",
       "    }\n",
       "\n",
       "    .dataframe tbody tr th {\n",
       "        vertical-align: top;\n",
       "    }\n",
       "\n",
       "    .dataframe thead th {\n",
       "        text-align: right;\n",
       "    }\n",
       "</style>\n",
       "<table border=\"1\" class=\"dataframe\">\n",
       "  <thead>\n",
       "    <tr style=\"text-align: right;\">\n",
       "      <th></th>\n",
       "      <th>order_id</th>\n",
       "      <th>order_date</th>\n",
       "      <th>on_truck_scan_date</th>\n",
       "      <th>ship_mode</th>\n",
       "    </tr>\n",
       "  </thead>\n",
       "  <tbody>\n",
       "    <tr>\n",
       "      <th>0</th>\n",
       "      <td>CA-2019-125206</td>\n",
       "      <td>3/1/2019</td>\n",
       "      <td>07/01/2019</td>\n",
       "      <td>Express</td>\n",
       "    </tr>\n",
       "    <tr>\n",
       "      <th>1</th>\n",
       "      <td>CA-2019-160304</td>\n",
       "      <td>2/1/2019</td>\n",
       "      <td>09/01/2019</td>\n",
       "      <td>Standard Processing</td>\n",
       "    </tr>\n",
       "    <tr>\n",
       "      <th>2</th>\n",
       "      <td>CA-2019-160304</td>\n",
       "      <td>2/1/2019</td>\n",
       "      <td>09/01/2019</td>\n",
       "      <td>Standard Processing</td>\n",
       "    </tr>\n",
       "    <tr>\n",
       "      <th>3</th>\n",
       "      <td>US-2019-116365</td>\n",
       "      <td>3/1/2019</td>\n",
       "      <td>09/01/2019</td>\n",
       "      <td>Standard Processing</td>\n",
       "    </tr>\n",
       "    <tr>\n",
       "      <th>4</th>\n",
       "      <td>US-2019-116365</td>\n",
       "      <td>3/1/2019</td>\n",
       "      <td>09/01/2019</td>\n",
       "      <td>Standard Processing</td>\n",
       "    </tr>\n",
       "  </tbody>\n",
       "</table>\n",
       "</div>"
      ],
      "text/plain": [
       "         order_id order_date on_truck_scan_date            ship_mode\n",
       "0  CA-2019-125206   3/1/2019         07/01/2019              Express\n",
       "1  CA-2019-160304   2/1/2019         09/01/2019  Standard Processing\n",
       "2  CA-2019-160304   2/1/2019         09/01/2019  Standard Processing\n",
       "3  US-2019-116365   3/1/2019         09/01/2019  Standard Processing\n",
       "4  US-2019-116365   3/1/2019         09/01/2019  Standard Processing"
      ]
     },
     "execution_count": 275,
     "metadata": {},
     "output_type": "execute_result"
    }
   ],
   "source": [
    "# read in csv file and display first 5 rows of #!PROCESS\n",
    "df_process = pd.read_csv(\"data/Group_1_Muesli_Project_raw_data-Order_Process_Data.csv\")\n",
    "df_process.rename(columns=lambda x : x.lower(), inplace=True)\n",
    "df_process.rename(columns=lambda x : x.replace(' ', '_'), inplace=True)\n",
    "df_process.drop([\"row_id\"], axis = 1, inplace=True)\n",
    "\n",
    "df_process.head()"
   ]
  },
  {
   "cell_type": "code",
   "execution_count": 276,
   "metadata": {},
   "outputs": [
    {
     "data": {
      "text/plain": [
       "Index(['order_id', 'order_date', 'on_truck_scan_date', 'ship_mode'], dtype='object')"
      ]
     },
     "execution_count": 276,
     "metadata": {},
     "output_type": "execute_result"
    }
   ],
   "source": [
    "# check which columns are included in our dataframe\n",
    "df_process.columns"
   ]
  },
  {
   "cell_type": "code",
   "execution_count": 277,
   "id": "af5da427",
   "metadata": {},
   "outputs": [
    {
     "data": {
      "text/plain": [
       "(5899, 4)"
      ]
     },
     "execution_count": 277,
     "metadata": {},
     "output_type": "execute_result"
    }
   ],
   "source": [
    "# Let's have a look at the shape of our dataset, meaning how long and wide it is.\n",
    "df_process.shape"
   ]
  },
  {
   "cell_type": "code",
   "execution_count": 278,
   "id": "05d19aff",
   "metadata": {},
   "outputs": [
    {
     "name": "stdout",
     "output_type": "stream",
     "text": [
      "<class 'pandas.core.frame.DataFrame'>\n",
      "RangeIndex: 5899 entries, 0 to 5898\n",
      "Data columns (total 4 columns):\n",
      " #   Column              Non-Null Count  Dtype \n",
      "---  ------              --------------  ----- \n",
      " 0   order_id            5899 non-null   object\n",
      " 1   order_date          5899 non-null   object\n",
      " 2   on_truck_scan_date  5899 non-null   object\n",
      " 3   ship_mode           5899 non-null   object\n",
      "dtypes: object(4)\n",
      "memory usage: 184.5+ KB\n"
     ]
    }
   ],
   "source": [
    "# We now want to check out our data-types as well as get a feeling for possible missing values\n",
    "df_process.info()"
   ]
  },
  {
   "cell_type": "code",
   "execution_count": 279,
   "metadata": {},
   "outputs": [
    {
     "data": {
      "text/plain": [
       "False    3002\n",
       "True        1\n",
       "Name: order_id, dtype: int64"
      ]
     },
     "execution_count": 279,
     "metadata": {},
     "output_type": "execute_result"
    }
   ],
   "source": [
    "# check for duplicate rows in video_id column\n",
    "df_process[\"order_id\"].duplicated().value_counts()\n",
    "# There are many duplicates because orders contain multiple items\n",
    "# Since we are only looking at logistic aspects, we are going to drop the duplicates\n",
    "# Assumption: All products of one order are being processed and shipped together\n",
    "#TODO proof if assumption is correct\n",
    "df_process.drop_duplicates(inplace=True)\n",
    "df_process[\"order_id\"].duplicated().value_counts()\n",
    "#TODO Why are there still two duplicates and how do we check them?\n"
   ]
  },
  {
   "cell_type": "markdown",
   "metadata": {},
   "source": [
    "## Intern Data Study"
   ]
  },
  {
   "cell_type": "code",
   "execution_count": 280,
   "metadata": {},
   "outputs": [
    {
     "data": {
      "text/html": [
       "<div>\n",
       "<style scoped>\n",
       "    .dataframe tbody tr th:only-of-type {\n",
       "        vertical-align: middle;\n",
       "    }\n",
       "\n",
       "    .dataframe tbody tr th {\n",
       "        vertical-align: top;\n",
       "    }\n",
       "\n",
       "    .dataframe thead th {\n",
       "        text-align: right;\n",
       "    }\n",
       "</style>\n",
       "<table border=\"1\" class=\"dataframe\">\n",
       "  <thead>\n",
       "    <tr style=\"text-align: right;\">\n",
       "      <th></th>\n",
       "      <th>order_id</th>\n",
       "      <th>ready_to_ship_date</th>\n",
       "      <th>pickup_date</th>\n",
       "    </tr>\n",
       "  </thead>\n",
       "  <tbody>\n",
       "    <tr>\n",
       "      <th>0</th>\n",
       "      <td>CA-2019-116540</td>\n",
       "      <td>02/09/2019</td>\n",
       "      <td>03/09/2019</td>\n",
       "    </tr>\n",
       "    <tr>\n",
       "      <th>1</th>\n",
       "      <td>CA-2019-116540</td>\n",
       "      <td>02/09/2019</td>\n",
       "      <td>03/09/2019</td>\n",
       "    </tr>\n",
       "    <tr>\n",
       "      <th>2</th>\n",
       "      <td>CA-2019-129847</td>\n",
       "      <td>04/09/2019</td>\n",
       "      <td>04/09/2019</td>\n",
       "    </tr>\n",
       "    <tr>\n",
       "      <th>3</th>\n",
       "      <td>CA-2019-129630</td>\n",
       "      <td>04/09/2019</td>\n",
       "      <td>04/09/2019</td>\n",
       "    </tr>\n",
       "    <tr>\n",
       "      <th>4</th>\n",
       "      <td>CA-2019-106278</td>\n",
       "      <td>05/09/2019</td>\n",
       "      <td>06/09/2019</td>\n",
       "    </tr>\n",
       "  </tbody>\n",
       "</table>\n",
       "</div>"
      ],
      "text/plain": [
       "         order_id ready_to_ship_date pickup_date\n",
       "0  CA-2019-116540         02/09/2019  03/09/2019\n",
       "1  CA-2019-116540         02/09/2019  03/09/2019\n",
       "2  CA-2019-129847         04/09/2019  04/09/2019\n",
       "3  CA-2019-129630         04/09/2019  04/09/2019\n",
       "4  CA-2019-106278         05/09/2019  06/09/2019"
      ]
     },
     "execution_count": 280,
     "metadata": {},
     "output_type": "execute_result"
    }
   ],
   "source": [
    "# read in csv file and display first 5 rows of #!INTERN DATA STUDY\n",
    "df_intern = pd.read_csv(\"data/Group_1_Muesli_Project_raw_data-Intern_Data_Study.csv\")\n",
    "df_intern.rename(columns=lambda x : x.lower(), inplace=True)\n",
    "df_intern.rename(columns=lambda x : x.replace(' ', '_'), inplace=True)\n",
    "df_intern.head()"
   ]
  },
  {
   "cell_type": "code",
   "execution_count": 281,
   "metadata": {},
   "outputs": [
    {
     "data": {
      "text/plain": [
       "Index(['order_id', 'ready_to_ship_date', 'pickup_date'], dtype='object')"
      ]
     },
     "execution_count": 281,
     "metadata": {},
     "output_type": "execute_result"
    }
   ],
   "source": [
    "# check which columns are included in our dataframe\n",
    "df_intern.columns"
   ]
  },
  {
   "cell_type": "code",
   "execution_count": 282,
   "id": "af5da427",
   "metadata": {},
   "outputs": [
    {
     "data": {
      "text/plain": [
       "(290, 3)"
      ]
     },
     "execution_count": 282,
     "metadata": {},
     "output_type": "execute_result"
    }
   ],
   "source": [
    "# Let's have a look at the shape of our dataset, meaning how long and wide it is.\n",
    "df_intern.shape"
   ]
  },
  {
   "cell_type": "code",
   "execution_count": 283,
   "id": "05d19aff",
   "metadata": {},
   "outputs": [
    {
     "name": "stdout",
     "output_type": "stream",
     "text": [
      "<class 'pandas.core.frame.DataFrame'>\n",
      "RangeIndex: 290 entries, 0 to 289\n",
      "Data columns (total 3 columns):\n",
      " #   Column              Non-Null Count  Dtype \n",
      "---  ------              --------------  ----- \n",
      " 0   order_id            290 non-null    object\n",
      " 1   ready_to_ship_date  290 non-null    object\n",
      " 2   pickup_date         290 non-null    object\n",
      "dtypes: object(3)\n",
      "memory usage: 6.9+ KB\n"
     ]
    }
   ],
   "source": [
    "# We now want to check out our data-types as well as get a feeling for possible missing values\n",
    "df_intern.info()"
   ]
  },
  {
   "cell_type": "code",
   "execution_count": 284,
   "metadata": {},
   "outputs": [],
   "source": [
    "# check for duplicate rows in video_id column\n",
    "df_intern[\"order_id\"].duplicated().value_counts()\n",
    "# Customer scanned multiple times -> drop duplicates\n",
    "df_intern.drop_duplicates(inplace=True)"
   ]
  },
  {
   "cell_type": "code",
   "execution_count": 285,
   "metadata": {},
   "outputs": [],
   "source": [
    "# Merge datasets\n",
    "#TODO merge, outliers, dates (to have weekdays), define KPIs"
   ]
  },
  {
   "cell_type": "code",
   "execution_count": 286,
   "metadata": {},
   "outputs": [
    {
     "name": "stdout",
     "output_type": "stream",
     "text": [
      "<class 'pandas.core.frame.DataFrame'>\n",
      "Int64Index: 5009 entries, 0 to 5008\n",
      "Data columns (total 5 columns):\n",
      " #   Column             Non-Null Count  Dtype \n",
      "---  ------             --------------  ----- \n",
      " 0   order_id           5009 non-null   object\n",
      " 1   order_date         5009 non-null   object\n",
      " 2   ship_mode          5009 non-null   object\n",
      " 3   customer_id        5009 non-null   object\n",
      " 4   arrival_scan_date  333 non-null    object\n",
      "dtypes: object(5)\n",
      "memory usage: 234.8+ KB\n"
     ]
    },
    {
     "data": {
      "text/plain": [
       "None"
      ]
     },
     "metadata": {},
     "output_type": "display_data"
    },
    {
     "data": {
      "text/html": [
       "<div>\n",
       "<style scoped>\n",
       "    .dataframe tbody tr th:only-of-type {\n",
       "        vertical-align: middle;\n",
       "    }\n",
       "\n",
       "    .dataframe tbody tr th {\n",
       "        vertical-align: top;\n",
       "    }\n",
       "\n",
       "    .dataframe thead th {\n",
       "        text-align: right;\n",
       "    }\n",
       "</style>\n",
       "<table border=\"1\" class=\"dataframe\">\n",
       "  <thead>\n",
       "    <tr style=\"text-align: right;\">\n",
       "      <th></th>\n",
       "      <th>order_id</th>\n",
       "      <th>order_date</th>\n",
       "      <th>ship_mode</th>\n",
       "      <th>customer_id</th>\n",
       "      <th>arrival_scan_date</th>\n",
       "    </tr>\n",
       "  </thead>\n",
       "  <tbody>\n",
       "    <tr>\n",
       "      <th>0</th>\n",
       "      <td>CA-2019-121755</td>\n",
       "      <td>16/1/2019</td>\n",
       "      <td>Second Class</td>\n",
       "      <td>EH-13945</td>\n",
       "      <td>NaN</td>\n",
       "    </tr>\n",
       "    <tr>\n",
       "      <th>1</th>\n",
       "      <td>CA-2019-118255</td>\n",
       "      <td>11/3/2019</td>\n",
       "      <td>First Class</td>\n",
       "      <td>ON-18715</td>\n",
       "      <td>NaN</td>\n",
       "    </tr>\n",
       "    <tr>\n",
       "      <th>2</th>\n",
       "      <td>CA-2019-169194</td>\n",
       "      <td>20/6/2019</td>\n",
       "      <td>Standard Class</td>\n",
       "      <td>LH-16900</td>\n",
       "      <td>NaN</td>\n",
       "    </tr>\n",
       "    <tr>\n",
       "      <th>3</th>\n",
       "      <td>CA-2019-111682</td>\n",
       "      <td>17/6/2019</td>\n",
       "      <td>First Class</td>\n",
       "      <td>TB-21055</td>\n",
       "      <td>NaN</td>\n",
       "    </tr>\n",
       "    <tr>\n",
       "      <th>4</th>\n",
       "      <td>CA-2018-135545</td>\n",
       "      <td>24/11/2018</td>\n",
       "      <td>Standard Class</td>\n",
       "      <td>KM-16720</td>\n",
       "      <td>NaN</td>\n",
       "    </tr>\n",
       "  </tbody>\n",
       "</table>\n",
       "</div>"
      ],
      "text/plain": [
       "         order_id  order_date       ship_mode customer_id arrival_scan_date\n",
       "0  CA-2019-121755   16/1/2019    Second Class    EH-13945               NaN\n",
       "1  CA-2019-118255   11/3/2019     First Class    ON-18715               NaN\n",
       "2  CA-2019-169194   20/6/2019  Standard Class    LH-16900               NaN\n",
       "3  CA-2019-111682   17/6/2019     First Class    TB-21055               NaN\n",
       "4  CA-2018-135545  24/11/2018  Standard Class    KM-16720               NaN"
      ]
     },
     "metadata": {},
     "output_type": "display_data"
    }
   ],
   "source": [
    "# Merge Order with Campaign\n",
    "order_camp_dataset = pd.merge(df_orders, df_camp, on=\"order_id\", how=\"outer\")\n",
    "display(order_camp_dataset.info())\n",
    "display(order_camp_dataset.head())"
   ]
  },
  {
   "cell_type": "code",
   "execution_count": 287,
   "metadata": {},
   "outputs": [
    {
     "name": "stdout",
     "output_type": "stream",
     "text": [
      "<class 'pandas.core.frame.DataFrame'>\n",
      "Int64Index: 3003 entries, 0 to 3002\n",
      "Data columns (total 6 columns):\n",
      " #   Column              Non-Null Count  Dtype \n",
      "---  ------              --------------  ----- \n",
      " 0   order_id            3003 non-null   object\n",
      " 1   ready_to_ship_date  204 non-null    object\n",
      " 2   pickup_date         204 non-null    object\n",
      " 3   order_date          3003 non-null   object\n",
      " 4   on_truck_scan_date  3003 non-null   object\n",
      " 5   ship_mode           3003 non-null   object\n",
      "dtypes: object(6)\n",
      "memory usage: 164.2+ KB\n"
     ]
    },
    {
     "data": {
      "text/plain": [
       "None"
      ]
     },
     "metadata": {},
     "output_type": "display_data"
    },
    {
     "data": {
      "text/html": [
       "<div>\n",
       "<style scoped>\n",
       "    .dataframe tbody tr th:only-of-type {\n",
       "        vertical-align: middle;\n",
       "    }\n",
       "\n",
       "    .dataframe tbody tr th {\n",
       "        vertical-align: top;\n",
       "    }\n",
       "\n",
       "    .dataframe thead th {\n",
       "        text-align: right;\n",
       "    }\n",
       "</style>\n",
       "<table border=\"1\" class=\"dataframe\">\n",
       "  <thead>\n",
       "    <tr style=\"text-align: right;\">\n",
       "      <th></th>\n",
       "      <th>order_id</th>\n",
       "      <th>ready_to_ship_date</th>\n",
       "      <th>pickup_date</th>\n",
       "      <th>order_date</th>\n",
       "      <th>on_truck_scan_date</th>\n",
       "      <th>ship_mode</th>\n",
       "    </tr>\n",
       "  </thead>\n",
       "  <tbody>\n",
       "    <tr>\n",
       "      <th>0</th>\n",
       "      <td>CA-2019-116540</td>\n",
       "      <td>02/09/2019</td>\n",
       "      <td>03/09/2019</td>\n",
       "      <td>2/9/2019</td>\n",
       "      <td>03/09/2019</td>\n",
       "      <td>Express</td>\n",
       "    </tr>\n",
       "    <tr>\n",
       "      <th>1</th>\n",
       "      <td>CA-2019-129847</td>\n",
       "      <td>04/09/2019</td>\n",
       "      <td>04/09/2019</td>\n",
       "      <td>2/9/2019</td>\n",
       "      <td>04/09/2019</td>\n",
       "      <td>Express</td>\n",
       "    </tr>\n",
       "    <tr>\n",
       "      <th>2</th>\n",
       "      <td>CA-2019-129630</td>\n",
       "      <td>04/09/2019</td>\n",
       "      <td>04/09/2019</td>\n",
       "      <td>4/9/2019</td>\n",
       "      <td>04/09/2019</td>\n",
       "      <td>Express</td>\n",
       "    </tr>\n",
       "    <tr>\n",
       "      <th>3</th>\n",
       "      <td>CA-2019-106278</td>\n",
       "      <td>05/09/2019</td>\n",
       "      <td>06/09/2019</td>\n",
       "      <td>2/9/2019</td>\n",
       "      <td>06/09/2019</td>\n",
       "      <td>Standard Processing</td>\n",
       "    </tr>\n",
       "    <tr>\n",
       "      <th>4</th>\n",
       "      <td>CA-2019-158099</td>\n",
       "      <td>05/09/2019</td>\n",
       "      <td>06/09/2019</td>\n",
       "      <td>3/9/2019</td>\n",
       "      <td>06/09/2019</td>\n",
       "      <td>Express</td>\n",
       "    </tr>\n",
       "  </tbody>\n",
       "</table>\n",
       "</div>"
      ],
      "text/plain": [
       "         order_id ready_to_ship_date pickup_date order_date  \\\n",
       "0  CA-2019-116540         02/09/2019  03/09/2019   2/9/2019   \n",
       "1  CA-2019-129847         04/09/2019  04/09/2019   2/9/2019   \n",
       "2  CA-2019-129630         04/09/2019  04/09/2019   4/9/2019   \n",
       "3  CA-2019-106278         05/09/2019  06/09/2019   2/9/2019   \n",
       "4  CA-2019-158099         05/09/2019  06/09/2019   3/9/2019   \n",
       "\n",
       "  on_truck_scan_date            ship_mode  \n",
       "0         03/09/2019              Express  \n",
       "1         04/09/2019              Express  \n",
       "2         04/09/2019              Express  \n",
       "3         06/09/2019  Standard Processing  \n",
       "4         06/09/2019              Express  "
      ]
     },
     "metadata": {},
     "output_type": "display_data"
    }
   ],
   "source": [
    "# Merge Process with Intern\n",
    "process_intern_dataset = pd.merge(df_intern, df_process, on=\"order_id\", how=\"outer\")\n",
    "display(process_intern_dataset.info())\n",
    "display(process_intern_dataset.head())"
   ]
  },
  {
   "cell_type": "code",
   "execution_count": 288,
   "metadata": {},
   "outputs": [
    {
     "name": "stdout",
     "output_type": "stream",
     "text": [
      "<class 'pandas.core.frame.DataFrame'>\n",
      "Int64Index: 5010 entries, 0 to 5009\n",
      "Data columns (total 10 columns):\n",
      " #   Column              Non-Null Count  Dtype \n",
      "---  ------              --------------  ----- \n",
      " 0   order_id            5010 non-null   object\n",
      " 1   order_date_x        5010 non-null   object\n",
      " 2   ship_mode_x         5010 non-null   object\n",
      " 3   customer_id         5010 non-null   object\n",
      " 4   arrival_scan_date   333 non-null    object\n",
      " 5   ready_to_ship_date  204 non-null    object\n",
      " 6   pickup_date         204 non-null    object\n",
      " 7   order_date_y        3003 non-null   object\n",
      " 8   on_truck_scan_date  3003 non-null   object\n",
      " 9   ship_mode_y         3003 non-null   object\n",
      "dtypes: object(10)\n",
      "memory usage: 430.5+ KB\n"
     ]
    },
    {
     "data": {
      "text/plain": [
       "None"
      ]
     },
     "metadata": {},
     "output_type": "display_data"
    },
    {
     "data": {
      "text/html": [
       "<div>\n",
       "<style scoped>\n",
       "    .dataframe tbody tr th:only-of-type {\n",
       "        vertical-align: middle;\n",
       "    }\n",
       "\n",
       "    .dataframe tbody tr th {\n",
       "        vertical-align: top;\n",
       "    }\n",
       "\n",
       "    .dataframe thead th {\n",
       "        text-align: right;\n",
       "    }\n",
       "</style>\n",
       "<table border=\"1\" class=\"dataframe\">\n",
       "  <thead>\n",
       "    <tr style=\"text-align: right;\">\n",
       "      <th></th>\n",
       "      <th>order_id</th>\n",
       "      <th>order_date_x</th>\n",
       "      <th>ship_mode_x</th>\n",
       "      <th>customer_id</th>\n",
       "      <th>arrival_scan_date</th>\n",
       "      <th>ready_to_ship_date</th>\n",
       "      <th>pickup_date</th>\n",
       "      <th>order_date_y</th>\n",
       "      <th>on_truck_scan_date</th>\n",
       "      <th>ship_mode_y</th>\n",
       "    </tr>\n",
       "  </thead>\n",
       "  <tbody>\n",
       "    <tr>\n",
       "      <th>0</th>\n",
       "      <td>CA-2019-121755</td>\n",
       "      <td>16/1/2019</td>\n",
       "      <td>Second Class</td>\n",
       "      <td>EH-13945</td>\n",
       "      <td>NaN</td>\n",
       "      <td>NaN</td>\n",
       "      <td>NaN</td>\n",
       "      <td>16/1/2019</td>\n",
       "      <td>23/01/2019</td>\n",
       "      <td>Standard Processing</td>\n",
       "    </tr>\n",
       "    <tr>\n",
       "      <th>1</th>\n",
       "      <td>CA-2019-118255</td>\n",
       "      <td>11/3/2019</td>\n",
       "      <td>First Class</td>\n",
       "      <td>ON-18715</td>\n",
       "      <td>NaN</td>\n",
       "      <td>NaN</td>\n",
       "      <td>NaN</td>\n",
       "      <td>11/3/2019</td>\n",
       "      <td>13/03/2019</td>\n",
       "      <td>Express</td>\n",
       "    </tr>\n",
       "    <tr>\n",
       "      <th>2</th>\n",
       "      <td>CA-2019-169194</td>\n",
       "      <td>20/6/2019</td>\n",
       "      <td>Standard Class</td>\n",
       "      <td>LH-16900</td>\n",
       "      <td>NaN</td>\n",
       "      <td>NaN</td>\n",
       "      <td>NaN</td>\n",
       "      <td>20/6/2019</td>\n",
       "      <td>26/06/2019</td>\n",
       "      <td>Standard Processing</td>\n",
       "    </tr>\n",
       "    <tr>\n",
       "      <th>3</th>\n",
       "      <td>CA-2019-111682</td>\n",
       "      <td>17/6/2019</td>\n",
       "      <td>First Class</td>\n",
       "      <td>TB-21055</td>\n",
       "      <td>NaN</td>\n",
       "      <td>NaN</td>\n",
       "      <td>NaN</td>\n",
       "      <td>17/6/2019</td>\n",
       "      <td>19/06/2019</td>\n",
       "      <td>Express</td>\n",
       "    </tr>\n",
       "    <tr>\n",
       "      <th>4</th>\n",
       "      <td>CA-2018-135545</td>\n",
       "      <td>24/11/2018</td>\n",
       "      <td>Standard Class</td>\n",
       "      <td>KM-16720</td>\n",
       "      <td>NaN</td>\n",
       "      <td>NaN</td>\n",
       "      <td>NaN</td>\n",
       "      <td>NaN</td>\n",
       "      <td>NaN</td>\n",
       "      <td>NaN</td>\n",
       "    </tr>\n",
       "  </tbody>\n",
       "</table>\n",
       "</div>"
      ],
      "text/plain": [
       "         order_id order_date_x     ship_mode_x customer_id arrival_scan_date  \\\n",
       "0  CA-2019-121755    16/1/2019    Second Class    EH-13945               NaN   \n",
       "1  CA-2019-118255    11/3/2019     First Class    ON-18715               NaN   \n",
       "2  CA-2019-169194    20/6/2019  Standard Class    LH-16900               NaN   \n",
       "3  CA-2019-111682    17/6/2019     First Class    TB-21055               NaN   \n",
       "4  CA-2018-135545   24/11/2018  Standard Class    KM-16720               NaN   \n",
       "\n",
       "  ready_to_ship_date pickup_date order_date_y on_truck_scan_date  \\\n",
       "0                NaN         NaN    16/1/2019         23/01/2019   \n",
       "1                NaN         NaN    11/3/2019         13/03/2019   \n",
       "2                NaN         NaN    20/6/2019         26/06/2019   \n",
       "3                NaN         NaN    17/6/2019         19/06/2019   \n",
       "4                NaN         NaN          NaN                NaN   \n",
       "\n",
       "           ship_mode_y  \n",
       "0  Standard Processing  \n",
       "1              Express  \n",
       "2  Standard Processing  \n",
       "3              Express  \n",
       "4                  NaN  "
      ]
     },
     "metadata": {},
     "output_type": "display_data"
    },
    {
     "data": {
      "text/plain": [
       "False    5009\n",
       "True        1\n",
       "Name: order_id, dtype: int64"
      ]
     },
     "execution_count": 288,
     "metadata": {},
     "output_type": "execute_result"
    }
   ],
   "source": [
    "final_dataset = pd.merge(order_camp_dataset, process_intern_dataset, on=\"order_id\", how=\"outer\")\n",
    "display(final_dataset.info())\n",
    "display(final_dataset.head())\n",
    "final_dataset[[\"on_truck_scan_date\", \"pickup_date\"]]\n",
    "final_dataset[\"order_id\"].duplicated().value_counts()\n",
    "\n"
   ]
  },
  {
   "cell_type": "code",
   "execution_count": 289,
   "metadata": {},
   "outputs": [
    {
     "data": {
      "text/html": [
       "<div>\n",
       "<style scoped>\n",
       "    .dataframe tbody tr th:only-of-type {\n",
       "        vertical-align: middle;\n",
       "    }\n",
       "\n",
       "    .dataframe tbody tr th {\n",
       "        vertical-align: top;\n",
       "    }\n",
       "\n",
       "    .dataframe thead th {\n",
       "        text-align: right;\n",
       "    }\n",
       "</style>\n",
       "<table border=\"1\" class=\"dataframe\">\n",
       "  <thead>\n",
       "    <tr style=\"text-align: right;\">\n",
       "      <th></th>\n",
       "      <th>order_id</th>\n",
       "      <th>order_date_x</th>\n",
       "      <th>ship_mode_x</th>\n",
       "      <th>customer_id</th>\n",
       "      <th>arrival_scan_date</th>\n",
       "      <th>ready_to_ship_date</th>\n",
       "      <th>pickup_date</th>\n",
       "      <th>order_date_y</th>\n",
       "      <th>on_truck_scan_date</th>\n",
       "      <th>ship_mode_y</th>\n",
       "    </tr>\n",
       "  </thead>\n",
       "  <tbody>\n",
       "    <tr>\n",
       "      <th>0</th>\n",
       "      <td>CA-2019-121755</td>\n",
       "      <td>16/1/2019</td>\n",
       "      <td>Second Class</td>\n",
       "      <td>EH-13945</td>\n",
       "      <td>NaN</td>\n",
       "      <td>NaN</td>\n",
       "      <td>NaN</td>\n",
       "      <td>16/1/2019</td>\n",
       "      <td>23/01/2019</td>\n",
       "      <td>Standard Processing</td>\n",
       "    </tr>\n",
       "    <tr>\n",
       "      <th>1</th>\n",
       "      <td>CA-2019-118255</td>\n",
       "      <td>11/3/2019</td>\n",
       "      <td>First Class</td>\n",
       "      <td>ON-18715</td>\n",
       "      <td>NaN</td>\n",
       "      <td>NaN</td>\n",
       "      <td>NaN</td>\n",
       "      <td>11/3/2019</td>\n",
       "      <td>13/03/2019</td>\n",
       "      <td>Express</td>\n",
       "    </tr>\n",
       "    <tr>\n",
       "      <th>2</th>\n",
       "      <td>CA-2019-169194</td>\n",
       "      <td>20/6/2019</td>\n",
       "      <td>Standard Class</td>\n",
       "      <td>LH-16900</td>\n",
       "      <td>NaN</td>\n",
       "      <td>NaN</td>\n",
       "      <td>NaN</td>\n",
       "      <td>20/6/2019</td>\n",
       "      <td>26/06/2019</td>\n",
       "      <td>Standard Processing</td>\n",
       "    </tr>\n",
       "    <tr>\n",
       "      <th>3</th>\n",
       "      <td>CA-2019-111682</td>\n",
       "      <td>17/6/2019</td>\n",
       "      <td>First Class</td>\n",
       "      <td>TB-21055</td>\n",
       "      <td>NaN</td>\n",
       "      <td>NaN</td>\n",
       "      <td>NaN</td>\n",
       "      <td>17/6/2019</td>\n",
       "      <td>19/06/2019</td>\n",
       "      <td>Express</td>\n",
       "    </tr>\n",
       "    <tr>\n",
       "      <th>4</th>\n",
       "      <td>CA-2018-135545</td>\n",
       "      <td>24/11/2018</td>\n",
       "      <td>Standard Class</td>\n",
       "      <td>KM-16720</td>\n",
       "      <td>NaN</td>\n",
       "      <td>NaN</td>\n",
       "      <td>NaN</td>\n",
       "      <td>NaN</td>\n",
       "      <td>NaN</td>\n",
       "      <td>NaN</td>\n",
       "    </tr>\n",
       "  </tbody>\n",
       "</table>\n",
       "</div>"
      ],
      "text/plain": [
       "         order_id order_date_x     ship_mode_x customer_id arrival_scan_date  \\\n",
       "0  CA-2019-121755    16/1/2019    Second Class    EH-13945               NaN   \n",
       "1  CA-2019-118255    11/3/2019     First Class    ON-18715               NaN   \n",
       "2  CA-2019-169194    20/6/2019  Standard Class    LH-16900               NaN   \n",
       "3  CA-2019-111682    17/6/2019     First Class    TB-21055               NaN   \n",
       "4  CA-2018-135545   24/11/2018  Standard Class    KM-16720               NaN   \n",
       "\n",
       "  ready_to_ship_date pickup_date order_date_y on_truck_scan_date  \\\n",
       "0                NaN         NaN    16/1/2019         23/01/2019   \n",
       "1                NaN         NaN    11/3/2019         13/03/2019   \n",
       "2                NaN         NaN    20/6/2019         26/06/2019   \n",
       "3                NaN         NaN    17/6/2019         19/06/2019   \n",
       "4                NaN         NaN          NaN                NaN   \n",
       "\n",
       "           ship_mode_y  \n",
       "0  Standard Processing  \n",
       "1              Express  \n",
       "2  Standard Processing  \n",
       "3              Express  \n",
       "4                  NaN  "
      ]
     },
     "execution_count": 289,
     "metadata": {},
     "output_type": "execute_result"
    }
   ],
   "source": [
    "final_dataset.head()\n",
    "#final_dataset.ship_mode_x.nunique()"
   ]
  },
  {
   "cell_type": "code",
   "execution_count": 290,
   "metadata": {},
   "outputs": [
    {
     "data": {
      "text/html": [
       "<div>\n",
       "<style scoped>\n",
       "    .dataframe tbody tr th:only-of-type {\n",
       "        vertical-align: middle;\n",
       "    }\n",
       "\n",
       "    .dataframe tbody tr th {\n",
       "        vertical-align: top;\n",
       "    }\n",
       "\n",
       "    .dataframe thead th {\n",
       "        text-align: right;\n",
       "    }\n",
       "</style>\n",
       "<table border=\"1\" class=\"dataframe\">\n",
       "  <thead>\n",
       "    <tr style=\"text-align: right;\">\n",
       "      <th></th>\n",
       "      <th></th>\n",
       "      <th>order_id</th>\n",
       "      <th>order_date_x</th>\n",
       "      <th>customer_id</th>\n",
       "      <th>arrival_scan_date</th>\n",
       "      <th>ready_to_ship_date</th>\n",
       "      <th>pickup_date</th>\n",
       "      <th>order_date_y</th>\n",
       "      <th>on_truck_scan_date</th>\n",
       "    </tr>\n",
       "    <tr>\n",
       "      <th>ship_mode_x</th>\n",
       "      <th>ship_mode_y</th>\n",
       "      <th></th>\n",
       "      <th></th>\n",
       "      <th></th>\n",
       "      <th></th>\n",
       "      <th></th>\n",
       "      <th></th>\n",
       "      <th></th>\n",
       "      <th></th>\n",
       "    </tr>\n",
       "  </thead>\n",
       "  <tbody>\n",
       "    <tr>\n",
       "      <th>First Class</th>\n",
       "      <th>Express</th>\n",
       "      <td>663</td>\n",
       "      <td>663</td>\n",
       "      <td>663</td>\n",
       "      <td>75</td>\n",
       "      <td>53</td>\n",
       "      <td>53</td>\n",
       "      <td>663</td>\n",
       "      <td>663</td>\n",
       "    </tr>\n",
       "    <tr>\n",
       "      <th>Second Class</th>\n",
       "      <th>Standard Processing</th>\n",
       "      <td>568</td>\n",
       "      <td>568</td>\n",
       "      <td>568</td>\n",
       "      <td>58</td>\n",
       "      <td>44</td>\n",
       "      <td>44</td>\n",
       "      <td>568</td>\n",
       "      <td>568</td>\n",
       "    </tr>\n",
       "    <tr>\n",
       "      <th>Standard Class</th>\n",
       "      <th>Standard Processing</th>\n",
       "      <td>1772</td>\n",
       "      <td>1772</td>\n",
       "      <td>1772</td>\n",
       "      <td>200</td>\n",
       "      <td>107</td>\n",
       "      <td>107</td>\n",
       "      <td>1772</td>\n",
       "      <td>1772</td>\n",
       "    </tr>\n",
       "  </tbody>\n",
       "</table>\n",
       "</div>"
      ],
      "text/plain": [
       "                                    order_id  order_date_x  customer_id  \\\n",
       "ship_mode_x    ship_mode_y                                                \n",
       "First Class    Express                   663           663          663   \n",
       "Second Class   Standard Processing       568           568          568   \n",
       "Standard Class Standard Processing      1772          1772         1772   \n",
       "\n",
       "                                    arrival_scan_date  ready_to_ship_date  \\\n",
       "ship_mode_x    ship_mode_y                                                  \n",
       "First Class    Express                             75                  53   \n",
       "Second Class   Standard Processing                 58                  44   \n",
       "Standard Class Standard Processing                200                 107   \n",
       "\n",
       "                                    pickup_date  order_date_y  \\\n",
       "ship_mode_x    ship_mode_y                                      \n",
       "First Class    Express                       53           663   \n",
       "Second Class   Standard Processing           44           568   \n",
       "Standard Class Standard Processing          107          1772   \n",
       "\n",
       "                                    on_truck_scan_date  \n",
       "ship_mode_x    ship_mode_y                              \n",
       "First Class    Express                             663  \n",
       "Second Class   Standard Processing                 568  \n",
       "Standard Class Standard Processing                1772  "
      ]
     },
     "execution_count": 290,
     "metadata": {},
     "output_type": "execute_result"
    }
   ],
   "source": [
    "#Checking if First Class = Express\n",
    "final_dataset.groupby(['ship_mode_x', 'ship_mode_y']).count()"
   ]
  },
  {
   "cell_type": "code",
   "execution_count": 291,
   "metadata": {},
   "outputs": [
    {
     "name": "stdout",
     "output_type": "stream",
     "text": [
      "<class 'pandas.core.frame.DataFrame'>\n",
      "Int64Index: 5010 entries, 0 to 5009\n",
      "Data columns (total 10 columns):\n",
      " #   Column              Non-Null Count  Dtype         \n",
      "---  ------              --------------  -----         \n",
      " 0   order_id            5010 non-null   object        \n",
      " 1   order_date_x        5010 non-null   datetime64[ns]\n",
      " 2   ship_mode_x         5010 non-null   object        \n",
      " 3   customer_id         5010 non-null   object        \n",
      " 4   arrival_scan_date   333 non-null    datetime64[ns]\n",
      " 5   ready_to_ship_date  204 non-null    datetime64[ns]\n",
      " 6   pickup_date         204 non-null    datetime64[ns]\n",
      " 7   order_date_y        3003 non-null   datetime64[ns]\n",
      " 8   on_truck_scan_date  3003 non-null   datetime64[ns]\n",
      " 9   ship_mode_y         3003 non-null   object        \n",
      "dtypes: datetime64[ns](6), object(4)\n",
      "memory usage: 430.5+ KB\n"
     ]
    }
   ],
   "source": [
    "final_dataset['order_date_x'] = pd.to_datetime(final_dataset['order_date_x'], format='%d/%m/%Y')\n",
    "final_dataset['order_date_y'] = pd.to_datetime(final_dataset['order_date_y'], format='%d/%m/%Y')\n",
    "final_dataset['arrival_scan_date'] = pd.to_datetime(final_dataset['arrival_scan_date'], format='%d/%m/%Y')\n",
    "final_dataset['ready_to_ship_date'] = pd.to_datetime(final_dataset['ready_to_ship_date'], format='%d/%m/%Y')\n",
    "final_dataset['pickup_date'] = pd.to_datetime(final_dataset['pickup_date'], format='%d/%m/%Y')\n",
    "final_dataset['on_truck_scan_date'] = pd.to_datetime(final_dataset['on_truck_scan_date'], format='%d/%m/%Y')\n",
    "final_dataset.head()\n",
    "final_dataset.info()"
   ]
  },
  {
   "cell_type": "code",
   "execution_count": 292,
   "metadata": {},
   "outputs": [
    {
     "data": {
      "text/html": [
       "<div>\n",
       "<style scoped>\n",
       "    .dataframe tbody tr th:only-of-type {\n",
       "        vertical-align: middle;\n",
       "    }\n",
       "\n",
       "    .dataframe tbody tr th {\n",
       "        vertical-align: top;\n",
       "    }\n",
       "\n",
       "    .dataframe thead th {\n",
       "        text-align: right;\n",
       "    }\n",
       "</style>\n",
       "<table border=\"1\" class=\"dataframe\">\n",
       "  <thead>\n",
       "    <tr style=\"text-align: right;\">\n",
       "      <th></th>\n",
       "      <th>order_id</th>\n",
       "      <th>order_date</th>\n",
       "      <th>ship_mode_x</th>\n",
       "      <th>customer_id</th>\n",
       "      <th>arrival_scan_date</th>\n",
       "      <th>ready_to_ship_date</th>\n",
       "      <th>pickup_date</th>\n",
       "      <th>on_truck_scan_date</th>\n",
       "    </tr>\n",
       "  </thead>\n",
       "  <tbody>\n",
       "    <tr>\n",
       "      <th>0</th>\n",
       "      <td>CA-2019-121755</td>\n",
       "      <td>2019-01-16</td>\n",
       "      <td>Second Class</td>\n",
       "      <td>EH-13945</td>\n",
       "      <td>NaT</td>\n",
       "      <td>NaT</td>\n",
       "      <td>NaT</td>\n",
       "      <td>2019-01-23</td>\n",
       "    </tr>\n",
       "    <tr>\n",
       "      <th>1</th>\n",
       "      <td>CA-2019-118255</td>\n",
       "      <td>2019-03-11</td>\n",
       "      <td>First Class</td>\n",
       "      <td>ON-18715</td>\n",
       "      <td>NaT</td>\n",
       "      <td>NaT</td>\n",
       "      <td>NaT</td>\n",
       "      <td>2019-03-13</td>\n",
       "    </tr>\n",
       "    <tr>\n",
       "      <th>2</th>\n",
       "      <td>CA-2019-169194</td>\n",
       "      <td>2019-06-20</td>\n",
       "      <td>Standard Class</td>\n",
       "      <td>LH-16900</td>\n",
       "      <td>NaT</td>\n",
       "      <td>NaT</td>\n",
       "      <td>NaT</td>\n",
       "      <td>2019-06-26</td>\n",
       "    </tr>\n",
       "    <tr>\n",
       "      <th>3</th>\n",
       "      <td>CA-2019-111682</td>\n",
       "      <td>2019-06-17</td>\n",
       "      <td>First Class</td>\n",
       "      <td>TB-21055</td>\n",
       "      <td>NaT</td>\n",
       "      <td>NaT</td>\n",
       "      <td>NaT</td>\n",
       "      <td>2019-06-19</td>\n",
       "    </tr>\n",
       "    <tr>\n",
       "      <th>4</th>\n",
       "      <td>CA-2018-135545</td>\n",
       "      <td>2018-11-24</td>\n",
       "      <td>Standard Class</td>\n",
       "      <td>KM-16720</td>\n",
       "      <td>NaT</td>\n",
       "      <td>NaT</td>\n",
       "      <td>NaT</td>\n",
       "      <td>NaT</td>\n",
       "    </tr>\n",
       "  </tbody>\n",
       "</table>\n",
       "</div>"
      ],
      "text/plain": [
       "         order_id order_date     ship_mode_x customer_id arrival_scan_date  \\\n",
       "0  CA-2019-121755 2019-01-16    Second Class    EH-13945               NaT   \n",
       "1  CA-2019-118255 2019-03-11     First Class    ON-18715               NaT   \n",
       "2  CA-2019-169194 2019-06-20  Standard Class    LH-16900               NaT   \n",
       "3  CA-2019-111682 2019-06-17     First Class    TB-21055               NaT   \n",
       "4  CA-2018-135545 2018-11-24  Standard Class    KM-16720               NaT   \n",
       "\n",
       "  ready_to_ship_date pickup_date on_truck_scan_date  \n",
       "0                NaT         NaT         2019-01-23  \n",
       "1                NaT         NaT         2019-03-13  \n",
       "2                NaT         NaT         2019-06-26  \n",
       "3                NaT         NaT         2019-06-19  \n",
       "4                NaT         NaT                NaT  "
      ]
     },
     "execution_count": 292,
     "metadata": {},
     "output_type": "execute_result"
    }
   ],
   "source": [
    "#Check if the two order date columns are the same\n",
    "final_dataset[\"delta_order_date\"] = final_dataset[\"order_date_x\"] - final_dataset[\"order_date_y\"]\n",
    "final_dataset.delta_order_date.describe()\n",
    "# Yes, they are -> 0 days time difference for all entries\n",
    "# drop one order date column and ship_mode_y as ship_mode_x has less non-null cells\n",
    "final_dataset.drop([\"order_date_y\", \"delta_order_date\", \"ship_mode_y\"], axis=1, inplace=True)\n",
    "# rename column\n",
    "final_dataset.rename(columns={\"order_date_x\": \"order_date\"}, inplace=True)\n",
    "\n",
    "# show dataset\n",
    "final_dataset.head()\n"
   ]
  },
  {
   "cell_type": "code",
   "execution_count": 296,
   "metadata": {},
   "outputs": [
    {
     "data": {
      "text/html": [
       "<div>\n",
       "<style scoped>\n",
       "    .dataframe tbody tr th:only-of-type {\n",
       "        vertical-align: middle;\n",
       "    }\n",
       "\n",
       "    .dataframe tbody tr th {\n",
       "        vertical-align: top;\n",
       "    }\n",
       "\n",
       "    .dataframe thead th {\n",
       "        text-align: right;\n",
       "    }\n",
       "</style>\n",
       "<table border=\"1\" class=\"dataframe\">\n",
       "  <thead>\n",
       "    <tr style=\"text-align: right;\">\n",
       "      <th></th>\n",
       "      <th>order_id</th>\n",
       "      <th>order_date</th>\n",
       "      <th>ship_mode_x</th>\n",
       "      <th>customer_id</th>\n",
       "      <th>arrival_scan_date</th>\n",
       "      <th>ready_to_ship_date</th>\n",
       "      <th>pickup_date</th>\n",
       "      <th>on_truck_scan_date</th>\n",
       "      <th>order_to_arrival</th>\n",
       "      <th>order_to_ready2ship</th>\n",
       "      <th>ready2ship_to_pickup_date</th>\n",
       "    </tr>\n",
       "  </thead>\n",
       "  <tbody>\n",
       "    <tr>\n",
       "      <th>0</th>\n",
       "      <td>CA-2019-121755</td>\n",
       "      <td>2019-01-16</td>\n",
       "      <td>Second Class</td>\n",
       "      <td>EH-13945</td>\n",
       "      <td>NaT</td>\n",
       "      <td>NaT</td>\n",
       "      <td>NaT</td>\n",
       "      <td>2019-01-23</td>\n",
       "      <td>NaN</td>\n",
       "      <td>NaN</td>\n",
       "      <td>NaN</td>\n",
       "    </tr>\n",
       "    <tr>\n",
       "      <th>1</th>\n",
       "      <td>CA-2019-118255</td>\n",
       "      <td>2019-03-11</td>\n",
       "      <td>First Class</td>\n",
       "      <td>ON-18715</td>\n",
       "      <td>NaT</td>\n",
       "      <td>NaT</td>\n",
       "      <td>NaT</td>\n",
       "      <td>2019-03-13</td>\n",
       "      <td>NaN</td>\n",
       "      <td>NaN</td>\n",
       "      <td>NaN</td>\n",
       "    </tr>\n",
       "    <tr>\n",
       "      <th>2</th>\n",
       "      <td>CA-2019-169194</td>\n",
       "      <td>2019-06-20</td>\n",
       "      <td>Standard Class</td>\n",
       "      <td>LH-16900</td>\n",
       "      <td>NaT</td>\n",
       "      <td>NaT</td>\n",
       "      <td>NaT</td>\n",
       "      <td>2019-06-26</td>\n",
       "      <td>NaN</td>\n",
       "      <td>NaN</td>\n",
       "      <td>NaN</td>\n",
       "    </tr>\n",
       "    <tr>\n",
       "      <th>3</th>\n",
       "      <td>CA-2019-111682</td>\n",
       "      <td>2019-06-17</td>\n",
       "      <td>First Class</td>\n",
       "      <td>TB-21055</td>\n",
       "      <td>NaT</td>\n",
       "      <td>NaT</td>\n",
       "      <td>NaT</td>\n",
       "      <td>2019-06-19</td>\n",
       "      <td>NaN</td>\n",
       "      <td>NaN</td>\n",
       "      <td>NaN</td>\n",
       "    </tr>\n",
       "    <tr>\n",
       "      <th>4</th>\n",
       "      <td>CA-2018-135545</td>\n",
       "      <td>2018-11-24</td>\n",
       "      <td>Standard Class</td>\n",
       "      <td>KM-16720</td>\n",
       "      <td>NaT</td>\n",
       "      <td>NaT</td>\n",
       "      <td>NaT</td>\n",
       "      <td>NaT</td>\n",
       "      <td>NaN</td>\n",
       "      <td>NaN</td>\n",
       "      <td>NaN</td>\n",
       "    </tr>\n",
       "  </tbody>\n",
       "</table>\n",
       "</div>"
      ],
      "text/plain": [
       "         order_id order_date     ship_mode_x customer_id arrival_scan_date  \\\n",
       "0  CA-2019-121755 2019-01-16    Second Class    EH-13945               NaT   \n",
       "1  CA-2019-118255 2019-03-11     First Class    ON-18715               NaT   \n",
       "2  CA-2019-169194 2019-06-20  Standard Class    LH-16900               NaT   \n",
       "3  CA-2019-111682 2019-06-17     First Class    TB-21055               NaT   \n",
       "4  CA-2018-135545 2018-11-24  Standard Class    KM-16720               NaT   \n",
       "\n",
       "  ready_to_ship_date pickup_date on_truck_scan_date  order_to_arrival  \\\n",
       "0                NaT         NaT         2019-01-23               NaN   \n",
       "1                NaT         NaT         2019-03-13               NaN   \n",
       "2                NaT         NaT         2019-06-26               NaN   \n",
       "3                NaT         NaT         2019-06-19               NaN   \n",
       "4                NaT         NaT                NaT               NaN   \n",
       "\n",
       "   order_to_ready2ship  ready2ship_to_pickup_date  \n",
       "0                  NaN                        NaN  \n",
       "1                  NaN                        NaN  \n",
       "2                  NaN                        NaN  \n",
       "3                  NaN                        NaN  \n",
       "4                  NaN                        NaN  "
      ]
     },
     "execution_count": 296,
     "metadata": {},
     "output_type": "execute_result"
    }
   ],
   "source": [
    "# Calculate actual day in process phases\n",
    "final_dataset[\"order_to_arrival\"] = (final_dataset[\"arrival_scan_date\"] - final_dataset[\"order_date\"]).dt.days\n",
    "final_dataset[\"order_to_ready2ship\"] = (final_dataset[\"ready_to_ship_date\"] - final_dataset[\"order_date\"]).dt.days\n",
    "final_dataset[\"ready2ship_to_pickup_date\"] = (final_dataset[\"pickup_date\"] - final_dataset[\"ready_to_ship_date\"]).dt.days\n",
    "\n",
    "\n",
    "final_dataset.describe()\n",
    "final_dataset.head()"
   ]
  },
  {
   "cell_type": "code",
   "execution_count": null,
   "metadata": {},
   "outputs": [
    {
     "data": {
      "text/plain": [
       "order_id                     26\n",
       "order_date                   26\n",
       "customer_id                  26\n",
       "arrival_scan_date            26\n",
       "ready_to_ship_date            0\n",
       "pickup_date                   0\n",
       "on_truck_scan_date           26\n",
       "ship_mode_y                  26\n",
       "order_to_arrival             26\n",
       "order_to_ready2ship           0\n",
       "ready2ship_to_pickup_date     0\n",
       "dtype: int64"
      ]
     },
     "execution_count": 93,
     "metadata": {},
     "output_type": "execute_result"
    }
   ],
   "source": [
    "final_dataset.query(\"order_to_arrival > 14\").count()\n",
    "# 26 order of 333 existing entries take\n",
    "# "
   ]
  },
  {
   "cell_type": "code",
   "execution_count": null,
   "metadata": {},
   "outputs": [
    {
     "data": {
      "text/plain": [
       "<AxesSubplot:>"
      ]
     },
     "execution_count": 99,
     "metadata": {},
     "output_type": "execute_result"
    },
    {
     "data": {
      "image/png": "[encoded data removed]",
      "text/plain": [
       "<Figure size 640x480 with 1 Axes>"
      ]
     },
     "metadata": {},
     "output_type": "display_data"
    }
   ],
   "source": [
    "final_dataset.plot(kind=\"box\", rot=45)"
   ]
  },
  {
   "cell_type": "code",
   "execution_count": null,
   "metadata": {},
   "outputs": [],
   "source": []
  },
  {
   "cell_type": "code",
   "execution_count": null,
   "metadata": {},
   "outputs": [],
   "source": []
  }
 ],
 "metadata": {
  "kernelspec": {
   "display_name": "Python 3.9.13 ('nf_base')",
   "language": "python",
   "name": "python3"
  },
  "language_info": {
   "codemirror_mode": {
    "name": "ipython",
    "version": 3
   },
   "file_extension": ".py",
   "mimetype": "text/x-python",
   "name": "python",
   "nbconvert_exporter": "python",
   "pygments_lexer": "ipython3",
   "version": "3.9.13"
  },
  "orig_nbformat": 4,
  "vscode": {
   "interpreter": {
    "hash": "ab3d85a18739f6fff6a9c8c504adc2ff9340867b576dede986e2ee74c099e4e5"
   }
  }
 },
 "nbformat": 4,
 "nbformat_minor": 2
}
